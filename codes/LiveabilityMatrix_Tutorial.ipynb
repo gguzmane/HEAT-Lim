{
 "cells": [
  {
   "cell_type": "markdown",
   "id": "c4135733-95d1-434a-a438-daa3f68426cf",
   "metadata": {},
   "source": [
    "# Liveability (Mmax) and survivable but not liveable matrix tutorial\n",
    "\n",
    "This code will introduce you in the estimation of liveability matrices replicating graphs 4, S6, or S7 for maximum internal heat production (`Mmax`) and survivable but not liveable conditions (`survive_but_not_livable`) in Vanos et al. (2023). For this exercise, we are taking possible humidity values for temperatures between 25 and 60°C. Notice that radiation and wind are fixed here. Therefore, if your analysis has the same considerations, you could use these matrices as look-up tables. Otherwise, you will need to run the algorithm for each environmental condition and person setup. This analysis is intended for time frames that match global climate models with a temporal resolution of 3 and 6 hours once a sustained exposure is one of the steady-state model assumptions. \n",
    "\n",
    "**How is the maximum internal heat production (Mmax) defined as a liveability metric?**\n",
    "\n",
    "`Mmax` is the maximum internal heat production, or level of physical activity, that a person can generate without a sustained positive rate of heat storage in the prevailing environment, thus allowing safe, sustained work and play for an extended period. This is an instantaneous metric on time and it is not related to a exposure duration.\n",
    "\n",
    "As part of liveability analysis, we also provide survivable but not liveable conditions `survive_but_not_livable`, which are such conditions in which people cannot increase their activity beyond rest without continuously storing heat inside the body.These are conditions that lead to a continuous in core temperature but heat stroke death after a 3-hour exposure would not occur.\n",
    "\n",
    "**Disclaimers**: \n",
    "\n",
    "- In this analysis, to set the upper limit for survivable but not liveable conditions, we are using the survivability limit for a 3H exposure. That does not mean 3 hour is the duration for the safe, sustained activity that `Mmax` represent. `Mmax` is a threshold for the magnitude of internal heat production to keep the body upon compensable heat stress.\n",
    "\n",
    "- `Mmax`values are capped at 10 METs to reflect a reasonable upper limit of sustainable activity intensity for a healthy adult under thermal comfort or cold stress.\n",
    "\n",
    "## Inputs\n",
    "- Range of temperatures and humidity\n",
    "- Type of humidity metric\n",
    "- Personal profile description\n",
    "- Matrix of wet bulb temperature (Tw) (This is only for comparison purposes with Tw=35°C)\n",
    "- Survivability matrix (in this case, 3H exposure is used)\n",
    "- Flag survivability that indicates the survivability type according to the physiological constraints imposed in this model (in this case, 3H exposure is used).\n",
    "\n",
    "## Outputs\n",
    "- **Liveability matrix (Mmax)**: Maximum metabolic rate to keep compensable heat stress (METs) (i.e., that a person can generate without a sustained positive rate of heat storage even with a maximal thermoregulatory response)\n",
    "- **Survivable but not liveable matrix**: Flag that indicates if a person even upon uncompensable heat stress but if resting (minimal physical activity) can survive.\n",
    "- **Plot of liveability estimates based on Mmax**, indicating too those conditions that are survivable but not livable, Survivability limit to 3H exposure and Tw=35 limit.\n",
    "\n",
    "To obtain more details regarding the rationale behind these methods,look for session \"methods\" and their detail in the supplemental material in Vanos et al.(2023). \n",
    "\n",
    "Notice you need to change manually what type of humidity metric you want in the y-axis when indicated in the code with the `variable` version. You can choose between:\n",
    "\n",
    "- rh: Relative humidity (%) \n",
    "- wv: Water vapor pressure (mmHg)\n",
    "- q: Specific humidity (g/kg)\n",
    "\n",
    "Also, you can set up the personal profile you want to consider in your analysis by changing the personal profile file and selecting the appropriate value for the variable `name_profile`.\n",
    "\n",
    "Please cite the method Vanos, J., Guzman-Echavarria, G., Baldwin, J. W., Bongers, C., Ebi, K. L., & Jay, O. (2023). A physiological approach for assessing human survivability and liveability to heat in a changing climate. Nature Communications. Also, consider acknowledging this effort to make possible a straightforward application of this analysis, citing:\n",
    "Guzman-Echavarria and Vanos (2023) Physiological-based estimations of human survivability and liveability to heat in a changing climate (V1.0.0) from Zenodo repository.\n",
    "\n",
    "~Thanks to \tHaley Staudmyer for helping with feedback and comments implementing this tutorial.\n"
   ]
  },
  {
   "cell_type": "markdown",
   "id": "2bd4b370",
   "metadata": {},
   "source": [
    "# Loading packages and setting directories"
   ]
  },
  {
   "cell_type": "code",
   "execution_count": 1,
   "id": "e2d55751",
   "metadata": {},
   "outputs": [],
   "source": [
    "#Loading needed packages to run the analysis as well as formatting for the plots (changes in the default runtime configuration rcParams).\n",
    "import HEATLim as HEATLim #Notice this model implementation in Python was formerly know as the Python Human Heat Balance (HEATLim), now HEAT-Lim.\n",
    "import numpy as np \n",
    "import pylab as plt \n",
    "import glob\n",
    "import pandas as pd\n",
    "import pickle\n",
    "import matplotlib.gridspec as gridspec\n",
    "from metpy.units import units\n",
    "import metpy.calc as mpcalc\n",
    "\n",
    "\n",
    "from matplotlib import rcParams\n",
    "rcParams['legend.frameon']= False \n",
    "rcParams['legend.markerscale']=2.\n",
    "rcParams['legend.fontsize']=14.\n",
    "rcParams['axes.edgecolor']='0.8'\n",
    "rcParams['axes.labelcolor']='0.15'\n",
    "rcParams['axes.linewidth']='0.8'\n",
    "rcParams['axes.labelsize']=14\n",
    "rcParams['axes.titlesize']=19\n",
    "rcParams[u'text.color']= u'.15'\n",
    "rcParams[u'xtick.direction']= u'in'\n",
    "rcParams[u'xtick.major.width']= 0.5\n",
    "rcParams[u'xtick.labelsize']= 13\n",
    "rcParams[u'ytick.labelsize']= 13\n",
    "rcParams[u'ytick.color']=u'.15'\n",
    "rcParams[u'ytick.direction']=u'in'\n",
    "rcParams[ u'font.sans-serif']=[u'Arial',\n",
    "                               u'Liberation Sans',\n",
    "                               u'Bitstream Vera Sans',\n",
    "                               u'sans-serif']\n",
    "rcParams['hatch.linewidth'] = 1\n",
    "    \n",
    "import warnings\n",
    "warnings.filterwarnings(\"ignore\")\n",
    "\n",
    "#To set legends\n",
    "from matplotlib.patches import Patch\n",
    "from matplotlib.lines import Line2D"
   ]
  },
  {
   "cell_type": "code",
   "execution_count": 2,
   "id": "b976223f",
   "metadata": {},
   "outputs": [],
   "source": [
    "#Defining working directories (You need to change this to your local directory)\n",
    "workdir = 'C:/Users/gguzma20/ASU Dropbox/Gisel Guzman/NSF_CAREER_shared_folder/7.1_Survivability Paper Development/HEAT-Lim_GitHub/PyHHB/' #This is the folder in which all the code and data are stored.\n",
    "\n",
    "path_profiles  = workdir + 'personal_profiles/'\n",
    "list_profiles = glob.glob(path_profiles+'*.txt') #To list all the profiles names in the folder\n",
    "\n",
    "path_save = workdir + 'outputs/'#This is the folder in which all the outputs from this code will be saved.\n",
    "path_icons = workdir + 'ancillary/'"
   ]
  },
  {
   "cell_type": "markdown",
   "id": "62eea71d",
   "metadata": {},
   "source": [
    "Now, we are loading image icons to the custom `Mmax` colorbar. all icons comes from https://icons8.com/, Thanks for providing this material!)\n",
    "\n",
    "Notice that the intensity of activities from `Mmax` are given in METs and the equivalent activities cames from Ainsworth et al. (2011).\n",
    "\n",
    "*Ainsworth, B. E., Haskell, W. L., Herrmann, S. D., Meckes, N., Bassett, D. R., Tudor-Locke, C., Greer, J. L., Vezina, J., Whitt-Glover, M. C., & Leon, A. S. (2011). 2011 compendium of physical activities: A second update of codes and MET values. Medicine and Science in Sports and Exercise, 43(8), 1575–1581. https://doi.org/10.1249/MSS.0b013e31821ece12*"
   ]
  },
  {
   "cell_type": "code",
   "execution_count": 3,
   "id": "1d45cb3c",
   "metadata": {},
   "outputs": [],
   "source": [
    "#Loading image icons to the custom Mmax colorbar \n",
    "\n",
    "#1.3 ~1.8   inactivity quiet/light sitting quietly, general,  sitting, fidgeting feet\n",
    "sitting_icon = plt.imread(path_icons + 'icons8-relax-with-book-100.png')\n",
    "studying_icon = plt.imread(path_icons + 'icons8-studying-64.png')\n",
    "#2.3 - 2.5    walking      carrying 15 lb child, slow walking; bird watching, slow walk;  walking from house to car or bus, from car or bus to go places, from car or bus to and from the worksite\n",
    "walking_icon = plt.imread(path_icons + 'icons8-walking-64.png')\n",
    "#3.3  home activities cleaning, sweeping carpet or floors, general\n",
    "cleaning_icon = plt.imread(path_icons + 'icons8-janitor-100.png')\n",
    "#4.0 stair climbing, slow pace (17133)\n",
    "stairclimbing_icon = plt.imread(path_icons + 'icons8-stair-climbing-100.png')\n",
    "#5.0 dancing ballet, modern, or jazz, general, rehearsal or class\n",
    "dancing_icon = plt.imread(path_icons + 'icons8-swing-100.png')\n",
    "#7.0 running jogging, general\n",
    "running_icon = plt.imread(path_icons + 'icons8-woman-athlete-100.png')\n",
    "#7.5 occupation walking or walk downstairs or standing, carrying objects about 75 to 99 lbs\n",
    "worker_icon = plt.imread(path_icons + 'icons8-heavy-100.png')"
   ]
  },
  {
   "cell_type": "markdown",
   "id": "8f45bb19",
   "metadata": {},
   "source": [
    "## Chosing fixed parameters in the model for this tutorial:"
   ]
  },
  {
   "cell_type": "code",
   "execution_count": 4,
   "id": "9cf2e3e1",
   "metadata": {},
   "outputs": [
    {
     "data": {
      "text/plain": [
       "2426"
      ]
     },
     "execution_count": 4,
     "metadata": {},
     "output_type": "execute_result"
    }
   ],
   "source": [
    "#Environmental settings\n",
    "version = 'rh' # The humidity options are rh (relative humidity), wv (water vapor pressure), or q (specific humidity)\n",
    "temperature = np.arange(25,60,0.1) #Create a range of temperatures we care about\n",
    "sun = 'Night-Indoors' #Options are 'Night-Indoors','Day-Outdoors'\n",
    "'see below in the code how the conditional is set for radiation to indicate wether the person is at shade or exposed to partly-cloudy conditions.'\n",
    "Av_ms = 1 #Air velocity in (m/s)\n",
    "barometric_pressure = 1013 #in hPa ONLY to obtain water vapor pressure when specific humidity is used as humidity metric.\n",
    "\n",
    "#Personal profile settings\n",
    "name_profile = 'Young_adult' #Options are'Young_adult','65_over'\n",
    "\n",
    "\n",
    "#Time of exposure (temporal resolution of the climate model output)\n",
    "exp_time = 3 \n",
    "\n",
    "#Read in the heat of vaporisation of sweat at 30⁰C, 2426 J/g\n",
    "Lh_vap = HEATLim.Lh_vap\n",
    "Lh_vap"
   ]
  },
  {
   "cell_type": "markdown",
   "id": "badf79c8",
   "metadata": {},
   "source": [
    "## Input data set-up"
   ]
  },
  {
   "cell_type": "code",
   "execution_count": 5,
   "id": "fcb48786",
   "metadata": {},
   "outputs": [],
   "source": [
    "#creation of the temperature,humidity matrices according the values set in the previous cell.\n",
    "#Dealing with different types of humidity (input model is Ambient vapour pressure in kPa)\n",
    "if version == 'rh':\n",
    "    humidity =  np.arange(0.5,100.5,0.5)\n",
    "    hum_label = 'Relative humidity (%)'\n",
    "    xx_temp, yy_humidity = np.meshgrid(temperature, humidity)\n",
    "    Psa_kPa = \tHEATLim.Psa_kPa_from_TaC(xx_temp)#Saturated vapor pressure in kPa\n",
    "    Pv  =   HEATLim.Pv_kPa_from_Psa_RH(Psa_kPa,yy_humidity) #Water vapor pressure in kPa\n",
    "\n",
    "if version == 'wv':\n",
    "    humidity =  np.arange(0,42.25,0.25)#mmHg\n",
    "    hum_label = 'Water vapor pressure (mmHg)'\n",
    "    xx_temp, yy_humidity = np.meshgrid(temperature, humidity)\n",
    "    Pv  =    (yy_humidity*units.mmHg).to('kPa').magnitude #Unit conversion from mmHg to kPa\n",
    "\n",
    "if version == 'q': #Here we assume this is a location at sea level pressure.\n",
    "    humidity = np.arange(0,40.2,0.2)\n",
    "    hum_label = 'Specific humidity (g/kg)'\n",
    "    xx_temp, yy_humidity = np.meshgrid(temperature, humidity)\n",
    "    atm_sl_p = np.ones(xx_temp.shape)*barometric_pressure #Seting a\n",
    "    yy_rh = mpcalc.relative_humidity_from_specific_humidity(atm_sl_p*units.hPa,xx_temp*units.degC, yy_humidity /1000)*100\n",
    "    Psa_kPa = HEATLim.Psa_kPa_from_TaC(xx_temp)#Saturated vapor pressure in kPa\n",
    "    Pv  =   HEATLim.Pv_kPa_from_Psa_RH(Psa_kPa,yy_rh) #Ambient vapor pressure in kPa\n",
    "\n",
    "#Reading the Tw matrix that matches the humidity metric. These matrices were estimated previously using JPL Davies-Jones method.\n",
    "WBT_matrix = pd.read_csv(workdir+'ancillary/'+version+'_version_WBT_matrix.csv', header = 0, index_col =0)\n"
   ]
  },
  {
   "cell_type": "markdown",
   "id": "7791b688",
   "metadata": {},
   "source": [
    "**Reading survivability to 3H heat exposure:**\n",
    "To delimitate `survive_but_not_livable` conditions, we need to detect the extended environmental conditions in which a person is under uncompensable heat stress while resting but is not gaining enough heat to die by a heat-stroke for a given exposure time. Here we chose 3H as the exposure time for that evaluation and read the output files from the `SurvivabilityMatrix_Tutorial.ipynb`."
   ]
  },
  {
   "cell_type": "code",
   "execution_count": 6,
   "id": "434d723f",
   "metadata": {},
   "outputs": [],
   "source": [
    "survivability      = pd.read_csv(path_save+version+'_survivability_array_'+sun+'_'+str(exp_time)+'H-'+name_profile+'.csv',index_col=0)  \n",
    "flag_survivability = pd.read_csv(path_save+version+'_flag_survivability_'+sun+'_'+str(exp_time)+'H-'+name_profile+'.csv',index_col=0)  "
   ]
  },
  {
   "cell_type": "markdown",
   "id": "4606aac0",
   "metadata": {},
   "source": [
    "**Reading the personal profile information:** This is the text file where you can customize anthropometrics, activities and clothing for your target population. To understand better the meaning, use and implications of human heat exchange, we recommend reading Cramer and Jay (2019).\n",
    "\n",
    "*Cramer, M. N., & Jay, O. (2019). Cores of reproducibility in physiology partitional calorimetry. Journal of Applied Physiology, 126(2), 267–277. https://doi.org/10.1152/japplphysiol.00191.2018*\n",
    "\n",
    "- `id`: identification of your profile\n",
    "- `name`: name to add labels in the graphics (once this has spaces, it is not the best to use to save outputs\n",
    "- `name_profile`: name of the text file with this information\n",
    "- `Mass`: Mass of the human body (kg)\n",
    "- `Height`: Height of the human body (m)\n",
    "- `AD`: Dubois-Dubois surface corporal area (m2)\n",
    "- `Tsk_C`: Mean skin temperature (⁰C)\n",
    "- `A_eff`: Effective radiative area of the body (dimensionless)\t\n",
    "- `Emm_sk`: Area weighted emissivity of the clothed body surface (dimensionless)\t\n",
    "- `Icl`: Clothing insulation value (Iclo)\t\n",
    "- `Re_cl`: Evaporative heat transfer resistance of the clothing layer (m2·kPa/W)\t\n",
    "- `M`: (Hprod) Internal metabolic heat production in W/kg \n",
    "- `W`: External work performed by the person W/g (For this application W=0).\n",
    "- `wmax_condition`: Maximum skin wettedness bibliography source to be set with HEAT-Lim. (dimensionless)\n",
    "- `smax_rate`: Maximum sustained sweat rate (L/hr)\n",
    "\n",
    "**Disclaimer** `M` here is not the rate of metabolic energy expenditure as taken in Cramer and Jay, (2019) in Watts. For this application, we need the internal metabolic heat production to be a function of a person's weight. The reason behind that is to be able to calculate a maximum permissible net heat loss and thus asses if a linear increase of internal temperature with time will lead to a heat stroke death (See explanation in Vanos, et al. (2023)). \n",
    "`M` in this modeling effort represents internal metabolic heat production (Hprod = `M` - `W`), once we assume a null external work performed by the person (W=0).\n",
    "\n",
    "\n",
    "Here, the value of `M`= 1.8 W/kg is equivalent to 1.5 MET, representing a person resting. To see the detail of the conversion factor from Watts to MET you can see the function documentation of `HEATLim.MetabolicRate_W_to_MET_Mass`.\n",
    "\n",
    "**Disclaimer for liveability analysis:** The personal profile for liveability analysis is different from the survivability analysis in the `A_eff`, `Icl`, and `Re_cl` values because, in this analysis, we are considering people wearing light clothing and a sitting position, whereas in survivability analysis people is naked and lying down to be in coherence with Tw=35⁰C approach assumptions."
   ]
  },
  {
   "cell_type": "code",
   "execution_count": 7,
   "id": "85a0761b",
   "metadata": {},
   "outputs": [
    {
     "data": {
      "text/plain": [
       "{'id': '003',\n",
       " 'name': '18-40 years',\n",
       " 'name_file': 'Young_adult_livability',\n",
       " 'Mass': '56.2',\n",
       " 'Height': nan,\n",
       " 'AD': '1.6',\n",
       " 'Tsk_C': '35',\n",
       " 'A_eff': '0.73',\n",
       " 'Emm_sk': '0.98',\n",
       " 'Icl': '0.36',\n",
       " 'Re_cl': '0.01',\n",
       " 'M': '1.8',\n",
       " 'W': '0',\n",
       " 'wmax_condition': 'YNG_Morris_2021',\n",
       " 'smax_rate': '0.75'}"
      ]
     },
     "execution_count": 7,
     "metadata": {},
     "output_type": "execute_result"
    }
   ],
   "source": [
    "profile = HEATLim.read_personal_profiles(path_profiles + name_profile+'_livability.txt')\n",
    "profile"
   ]
  },
  {
   "cell_type": "markdown",
   "id": "a76016e9",
   "metadata": {},
   "source": [
    "If the Dubois-Dubois surface corporal area `AD` is given in the profile file and is obtained from there. otherwise, it is estimated from `Mass` and `Height`:"
   ]
  },
  {
   "cell_type": "code",
   "execution_count": 8,
   "id": "3b719f9a",
   "metadata": {},
   "outputs": [],
   "source": [
    "if ~np.isfinite(float(profile['AD'])):\n",
    "    AD    = HEATLim.AD_from_mass_height(float(profile['Mass']),float(profile['Height'])) #m2\n",
    "else:\n",
    "    AD = float(profile['AD'])\n",
    "\n",
    "AD =  np.ones(xx_temp.shape)*AD"
   ]
  },
  {
   "cell_type": "markdown",
   "id": "8f94e9f7",
   "metadata": {},
   "source": [
    "**Disclaimer**: To simulate a radiation condition representative for **shade or night time**, it is assumed that mean radiant temperature equals air temperature. For **sun-exposed conditions**, we asummed a hypothetical threshold to represent partly-cloudy conditions based on micro-climate measurements from Guzman-Echavarria et al (2022) paper. To do this analysis with actual radiation data, researchers should account for the estimations of mean radiant temperature or operative temperature with the outputs of the climate models.\n",
    "\n",
    "*Guzman-Echavarria, G., Middel, A., & Vanos, J. (2022). Beyond heat exposure — new methods to quantify and link personal heat exposure, stress, and strain in diverse populations and climates: The journal temperature toolbox. Temperature, 10(03), 358–378. https://doi.org/10.1080/23328940.2022.2149024*\n",
    "\n",
    "**Here, matrices for environmental variables are created or renamed for homogeneous formatting:** "
   ]
  },
  {
   "cell_type": "code",
   "execution_count": 9,
   "id": "30c90801",
   "metadata": {},
   "outputs": [],
   "source": [
    "Ta_C = xx_temp\n",
    "Pv_kPa  =   Pv\n",
    "Av_ms  =  np.ones(xx_temp.shape)*Av_ms# Air velocity (m/s)\n",
    "\n",
    "if sun == 'Night-Indoors':\n",
    "    mrt_C  =  Ta_C#indoor mrt = Ta (⁰C)\n",
    "elif sun == 'Day-Outdoors':\n",
    "    mrt_C  =  Ta_C + 15 #outdoor mrt = Ta (⁰C) (Threshold to an hyphotetical Partly Cloudy Condition) based on the measurements from Guzman-Echavarria et al (2022)\n",
    "\n",
    "else:\n",
    "    raise ValueError(\"Non-valid radiation condition\")"
   ]
  },
  {
   "cell_type": "markdown",
   "id": "1ce0575e",
   "metadata": {},
   "source": [
    "# Model run: estimation of liveability and survivable but not liveable matrix\n",
    "\n",
    "### Estimation of the human-environment heat exchange avenues:\n",
    "Setting the **internal heat production** (Hprod) term using `M` parameter from `profile` dictionary:"
   ]
  },
  {
   "cell_type": "code",
   "execution_count": 10,
   "id": "defae835",
   "metadata": {},
   "outputs": [],
   "source": [
    "#Internal heat production at resting (W) equivalent to 1.5 METs\n",
    "M =  np.ones(xx_temp.shape)* float(profile['M'])* float(profile['Mass']) #W/kg *Kg"
   ]
  },
  {
   "cell_type": "markdown",
   "id": "ba100b34",
   "metadata": {},
   "source": [
    "**Estimation dry heat loss from the skin (combined heat flux via convection + radiation)**"
   ]
  },
  {
   "cell_type": "code",
   "execution_count": 11,
   "id": "18344dfd",
   "metadata": {},
   "outputs": [],
   "source": [
    "# Defining properties to estimate the combined convective and radiative heat fluxes.\n",
    "Tsk_C  = np.ones(xx_temp.shape)*float(profile['Tsk_C']) #Skin temperature, assumed to be held constant at 35°C\n",
    "Emm_sk = np.ones(xx_temp.shape)*float(profile['Emm_sk']) #Area-weighted emissivity of the clothed body surface (dimensionless)\n",
    "Ar_AD  = np.ones(xx_temp.shape)*float(profile['A_eff']) #Effective radiative area of the body (dimensionless)\n",
    "Icl    = np.ones(xx_temp.shape)*float(profile['Icl']) #Insulation clothing value (CLO)\n",
    "\n",
    "\n",
    "hc_cof  = HEATLim.hc_cof_from_Av(Av_ms) #W/m2K Convective heat transfer coefficient.\n",
    "hr_cof  = HEATLim.hr_cof_from_radiant_features(mrt_C,Tsk_C,Emm_sk,Ar_AD) #Linear radiative heat transfer coefficient (W/m2K).\n",
    "h_cof   = HEATLim.h_coef_from_hc_hr(hc_cof,hr_cof) # Combined heat transfer coefficient (W/m2K).\n",
    "to_C    = HEATLim.to_from_hr_tr_hc_ta(hr_cof,mrt_C,hc_cof,Ta_C) #Operative temperature (⁰C)\n",
    "\n",
    "#Estimation of combined dry heat loss via convection and radiation (W)\n",
    "Dry_Heat_Loss =  HEATLim.Dry_Heat_Loss_c_plus_r(Tsk_C,to_C,Icl,h_cof,AD)"
   ]
  },
  {
   "cell_type": "markdown",
   "id": "210e28f5",
   "metadata": {},
   "source": [
    "**Heat loss from respiration (Convection + Evaporation)**"
   ]
  },
  {
   "cell_type": "code",
   "execution_count": 12,
   "id": "ca7f9d0c",
   "metadata": {},
   "outputs": [],
   "source": [
    "# Estimation of dry respiratory heat loss (W)\n",
    "Cres = HEATLim.Cres_from_M_Ta(M,Ta_C,AD)\n",
    "# Estimation of latent respiratory heat loss (W)\n",
    "Eres = HEATLim.Eres_from_M_Pa(M,Pv_kPa,AD)"
   ]
  },
  {
   "cell_type": "markdown",
   "id": "40edfc76",
   "metadata": {},
   "source": [
    "Once we have all the avenues of heat exchange (Equation 4 in the supplemental material), we can estimate the **Evaporative required heat loss** `Ereq` (Equation 14 in the supplemental material)."
   ]
  },
  {
   "cell_type": "code",
   "execution_count": 13,
   "id": "193488cf",
   "metadata": {},
   "outputs": [],
   "source": [
    "Re_cl = np.ones(xx_temp.shape)*float(profile['Re_cl']) #Evaporative resistance of clothing in m2·kPa/W\n",
    "\n",
    "#Estimation of evaporative required heat loss (W) \n",
    "Ereq = HEATLim.Ereq_from_HeatFluxes(M,0,Dry_Heat_Loss,Cres, Eres)"
   ]
  },
  {
   "cell_type": "markdown",
   "id": "1f8b4f52",
   "metadata": {},
   "source": [
    "Now, we are getting closer, and we are ready to estimate the different evaporative heat loss restrictions (`Emax_env`, `Emax_wettedness`, and `Emax_sweat`) that will ultimately determine which is the most restrictive condition `Emax_lim` to determine if a person is under compensable heat stress using `HEATLim.livability_Mmax` function (See below, session *Liveability assessment*). \n",
    "\n"
   ]
  },
  {
   "cell_type": "markdown",
   "id": "26f120ec",
   "metadata": {},
   "source": [
    "**Estimation biophysical (environmental + clothing) evaporative heat loss limit**\n",
    "\n",
    "This is directly linked with the humidity gradient between the environment and the skin surface and clothing resistance in the heat exchange (Equation 16 in the supplemental material). In very high humid climates, the drivers of evaporation are highly limiting."
   ]
  },
  {
   "cell_type": "code",
   "execution_count": 14,
   "id": "078492af",
   "metadata": {},
   "outputs": [],
   "source": [
    "#Water vapour pressure at the skin (kPa), assumed to be that of saturated water (100% HR) vapour at skin temperature.\n",
    "Psk_s= HEATLim.Psa_kPa_from_TaC(Tsk_C) \n",
    "# Evaporative heat transfer coefficient (W/m2kPa).\n",
    "he_cof = HEATLim.he_cof(hc_cof)\n",
    "\n",
    "# Estimation of biophysical Emax (Env + clothing) (W)\n",
    "Emax_env = HEATLim.Emax_env(Psk_s,Pv_kPa,Re_cl,he_cof,Icl,AD)\n",
    "Emax_env[Emax_env<0] = 0 #This heat flux can not be negative."
   ]
  },
  {
   "cell_type": "markdown",
   "id": "b481cb01",
   "metadata": {},
   "source": [
    "**Estimation of the physiological (environmental + clothing + sweating capacity) evaporative heat loss limit**\n",
    "\n",
    "This is linked with the physiological capacity to saturate the skin surface due to a limited maximum skin wettedness (`wmax`) given their age and/or degree of acclimation/acclimatization, among other factors. In this evaporative limit, the biophysical limit is scaled by the maximum skin wettedness (Equation 19 in the supplemental material)."
   ]
  },
  {
   "cell_type": "code",
   "execution_count": 15,
   "id": "b220d768",
   "metadata": {},
   "outputs": [],
   "source": [
    "# Maximum skin wettedness: maximum portion of total body surface area that can be saturated with sweat.\n",
    "wmax = np.ones(xx_temp.shape)*HEATLim.wmax(profile['wmax_condition'])\n",
    "\n",
    "# Physiological Emax (Env + clothing + wettedness) \n",
    "Emax_wettedness = HEATLim.Emax_wettedness(wmax,Psk_s,Pv_kPa,Re_cl,he_cof,Icl,AD)\n",
    "Emax_wettedness[Emax_wettedness<0] = 0   #This heat flux can not be negative.  "
   ]
  },
  {
   "cell_type": "markdown",
   "id": "694eab34",
   "metadata": {},
   "source": [
    "**Estimation of the physiological evaporative heat loss limit given by sweat production**\n",
    "\n",
    "In very hot and dry environments, evaporation is so efficient, and the sweating rate required to attain `Emax_env` may not be physiologically possible. The evaporative heat loss limit should account for the maximum rate (`Smax`, from `profile` dictionary) at which a person can segregate sweat. \n",
    "\n",
    "To be able to estimate the required sweat rate `Sreq` using the required evaporative heat loss to achieve heat balance `Ereq` , it is also necessary to know ahead of the expected sweating efficiency `r`, estimated as follows:"
   ]
  },
  {
   "cell_type": "code",
   "execution_count": 16,
   "id": "ae90f90d",
   "metadata": {},
   "outputs": [],
   "source": [
    "# Estimation of required skin wettedness (dimensionless)\n",
    "wreq = HEATLim.wreq_HSI_skin_wettedness(Ereq,Emax_env)\n",
    "# Estimation of expected sweating efficiency (dimensionless)\n",
    "r = HEATLim.Sweating_efficiency_r(wreq) \n",
    "#Estimation of required sweat rate  to maintain heat balance (L/h).\n",
    "Sreq =  HEATLim.Sreq(Ereq,r,Lh_vap)"
   ]
  },
  {
   "cell_type": "markdown",
   "id": "43d8cb21",
   "metadata": {},
   "source": [
    "**Disclaimer**:  `Emax_sweat` assumes that all sweat evaporates over the skin, and the heat loss is equivalent to the heat released by sweat's latent heat of vaporization."
   ]
  },
  {
   "cell_type": "code",
   "execution_count": 17,
   "id": "1a574aa1",
   "metadata": {},
   "outputs": [],
   "source": [
    "Smax = np.ones(Ta_C.shape)*float(profile['smax_rate']) #Maximum sweat rate (L/h).\n",
    "\n",
    "#Estimation of the physiological evaporative heat loss based on capacity to secret sweat\n",
    "Emax_sweat = HEATLim.Emax_sweat_rate(Smax,Lh_vap,1,r)"
   ]
  },
  {
   "cell_type": "markdown",
   "id": "1f50f017",
   "metadata": {},
   "source": [
    "## Liveability and survivable but not liveable assessment:\n",
    "\n",
    "Now, we have all the elements needed to apply the workflow criteria to assess if a person can sustain compensable heat stress conditions and the maximum safe metabolic rate expressed in MET, and, therefore, known possible equivalent activities.\n",
    "\n",
    "<img src=\"Liveability_method.png\" alt=\"Liveability_method\" width=\"500\"/>\n",
    "\n",
    "That workflow is implemented with the function `HEATLim.livability_Mmax` that takes `flag_survivability`, `Ereq`, `Emax_wettedness`, `Emax_sweat`,`M` to apply each criteria and provide two outputs.: \n",
    "\n",
    "`Mmax`: a float variable that expresses the maximum metabolic rate to keep compensable heat stress (METs) (i.e., that a person can generate without a sustained positive rate of heat storage even with a maximal thermoregulatory response)\n",
    "\n",
    "`survive_but_not_livable`: a boolean (True, False) flag indicating if resting a person can survive even upon uncompensable heat stress (minimal physical activity).\n",
    "\n",
    "Notice that:\n",
    "- `Emax_lim` is the minimum value among `Emax_wettedness` and `Emax_sweat`\n",
    "- `Hloss` can be represented either by (`Dry_Heat_Loss` +`Cres` +`Eres`) or (`Ereq` + `Hprod`), here is chosen the second option.\n",
    "\n",
    "**Mmax Units: Watts to METs **\n",
    "\n",
    "All the avenues of heat exchange expressed in equation 4 (Supplemental material) are expressed in Watts. However, to provide a meaninful variable to communicate how liveability is impacted by heat, we chose to report `Mmax` in METs rather than Watts.\n",
    "\n",
    "\n"
   ]
  },
  {
   "cell_type": "code",
   "execution_count": 18,
   "id": "82d8c0ce",
   "metadata": {},
   "outputs": [],
   "source": [
    "Mmax_MET , survive_but_not_livable = HEATLim.livability_Mmax(flag_survivability,Ereq,Emax_wettedness,Emax_sweat,M,float(profile['Mass']))"
   ]
  },
  {
   "cell_type": "markdown",
   "id": "45204961",
   "metadata": {},
   "source": [
    "**Disclaimer:** *Clothing* plays a complex role in heat stress, and the change from nudity to light clothing modifies the complete heat balance, making arid conditions less stressful. Therefore, we force to be non-livable the environmental conditions that are liveable in this analysis but not survivable to a 3H exposure."
   ]
  },
  {
   "cell_type": "code",
   "execution_count": 19,
   "id": "a78f3afb",
   "metadata": {},
   "outputs": [],
   "source": [
    "Mmax_MET[survivability == False] = np.nan\n",
    "survive_but_not_livable = np.logical_and(survive_but_not_livable,survivability) #This line ensure too we doesn't extend past the new survivability curve"
   ]
  },
  {
   "cell_type": "markdown",
   "id": "57479512",
   "metadata": {},
   "source": [
    "# Saving the matrices as text files"
   ]
  },
  {
   "cell_type": "code",
   "execution_count": 20,
   "id": "c3a6d5c7",
   "metadata": {},
   "outputs": [],
   "source": [
    "# Saving  Livability Mmax matrix as text file\n",
    "dfMmax_MET = pd.DataFrame(index = humidity, columns = temperature)\n",
    "dfMmax_MET[:] = Mmax_MET \n",
    "dfMmax_MET.to_csv(path_save+version+'_Mmax_Livability_'+sun+'_'+str(exp_time)+'H-'+name_profile+'.csv',header=True,index = True)\n",
    "\n",
    "# Saving survivable but not liveable matrix as text file\n",
    "dfsurvive_but_not_livable = pd.DataFrame(index = humidity, columns = temperature)\n",
    "dfsurvive_but_not_livable[:] = survive_but_not_livable\n",
    "dfsurvive_but_not_livable.to_csv(path_save+version+'_survive_but_not_livable_survivability_'+sun+'_'+str(exp_time)+'H-'+name_profile+'.csv',header=True,index = True)\n",
    "\n"
   ]
  },
  {
   "cell_type": "markdown",
   "id": "81c9e9b6",
   "metadata": {},
   "source": [
    "# Now, the funniest part: plotting the results!"
   ]
  },
  {
   "cell_type": "code",
   "execution_count": 21,
   "id": "a14054ac",
   "metadata": {},
   "outputs": [
    {
     "data": {
      "image/png": "[encoded data removed]",
      "text/plain": [
       "<Figure size 432x360 with 9 Axes>"
      ]
     },
     "metadata": {
      "needs_background": "light"
     },
     "output_type": "display_data"
    }
   ],
   "source": [
    "xx = xx_temp\n",
    "yy = yy_humidity\n",
    "\n",
    "#Setting up the color palette, bins and label for colorbar\n",
    "colormap =  'Spectral_r'\n",
    "levels = np.arange(1.5,8,0.5) \n",
    "unit_colores = 'Maximum metabolic rate to keep\\n compensable heat stress (METs)'\n",
    "\n",
    "plt.close('all')\n",
    "fig = plt.figure(figsize=(6,5))\n",
    "ax = plt.subplot('111')\n",
    "\n",
    "#Plotting survibability line\n",
    "cb = plt.contour(xx,yy,survivability,colors = 'm')\n",
    "#Plotting  Mmax\n",
    "cs = plt.contourf(xx,yy,Mmax_MET,cmap = colormap,levels= levels,extend = 'max')\n",
    "\n",
    "#Ploting Tw\n",
    "cp = plt.contour(xx,yy,WBT_matrix,colors = 'k', levels= [35],linewidths=(3.5,))\n",
    "plt.clabel(cp, fmt = 'T$_w$ %2.1d°C', colors = 'k', manual= [(55,70)],fontsize=12) #contour line labels\n",
    "#_____all lines but 35\n",
    "p = list(np.arange(-10,40,5))\n",
    "p.remove(35)\n",
    "p.append(37)\n",
    "cb = plt.contour(xx,yy,WBT_matrix,colors = 'Black',levels= p,linewidths=(1,))\n",
    "plt.clabel(cb, fmt = ' %2.1d°C', colors = 'k', fontsize=10) #contour line labels\n",
    "\n",
    "#Mask for values above Tw > 37°C because are not plausible to occur.\n",
    "WBT_matrix[~np.isfinite(WBT_matrix)]= 40 #This line is just to do something with the values that are nan in WBT matrix   \n",
    "plt.contourf(xx,yy,WBT_matrix[WBT_matrix>37],cmap = 'seismic',levels =[6,np.nanmax(WBT_matrix)],zorder =2)\n",
    "       \n",
    "        \n",
    "#Setting plot labels\n",
    "plt.title(profile['name'] + \" (\"+sun+\")\", fontsize = 16)\n",
    "plt.xlabel('Air temperature (°C)', fontsize = 16)\n",
    "plt.ylabel(hum_label,fontsize = 16)\n",
    "\n",
    "\n",
    "#Setting colorbar (this is a long chunk of code)\n",
    "cax = fig.add_axes([0.27, -0.25, 0.5, 0.035])\n",
    "cbar = plt.colorbar(cs, cax=cax,pad=0.08,fraction=0.04,orientation = 'horizontal')\n",
    "cbar.ax.tick_params(labelsize=14)\n",
    "cbar.set_ticks([1.5,2.3,3,4,5,6,7,8])\n",
    "cbar.set_label(unit_colores,fontsize = 15)\n",
    "        \n",
    "\n",
    "#1.3 ~ 1.8    inactivity quiet/light  sitting, work office ... meetings, studying\n",
    "newax = fig.add_axes([0.245,-0.21,0.051,0.051], anchor='NE', zorder=1)\n",
    "newax.imshow(studying_icon)\n",
    "newax.axis('off')\n",
    "\n",
    "#2.3 ~ 2.5    walking      carrying 15 lb child, slow walking; bird watching, slow walk; walking from house to car or bus, from car or bus to go places, from car or bus to and from the worksite\n",
    "newax = fig.add_axes([0.31,-0.21,0.05,0.05], anchor='NE', zorder=1)\n",
    "newax.imshow(walking_icon)\n",
    "newax.axis('off')\n",
    "\n",
    "#3.3  home activities cleaning, sweeping carpet or floors, general\n",
    "newax = fig.add_axes([0.38,-0.21,0.045,0.045], anchor='NE', zorder=1)\n",
    "newax.imshow(cleaning_icon)\n",
    "newax.axis('off')\n",
    "\n",
    "#4.0 Stair climbing\n",
    "#stair climbing, slow pace (17133)\n",
    "newax = fig.add_axes([0.46,-0.21,0.048,0.048], anchor='NE', zorder=1)\n",
    "newax.imshow(stairclimbing_icon)\n",
    "newax.axis('off')\n",
    "\n",
    "#5.0 dancing ballet, modern, or jazz, general, rehearsal or class\n",
    "newax = fig.add_axes([0.53,-0.21,0.05,0.05], anchor='NE', zorder=1)\n",
    "newax.imshow(dancing_icon)\n",
    "newax.axis('off')\n",
    "\n",
    "#6.0 running Running, 4 mph (13 min/mile)\n",
    "newax = fig.add_axes([0.62,-0.21,0.045,0.045], anchor='NE', zorder=1)\n",
    "newax.imshow(running_icon)\n",
    "newax.axis('off')\n",
    "\n",
    "#7.5 occupation walking or walk downstairs or standing, carrying objects about 75 to 99 lbs\n",
    "newax = fig.add_axes([0.7,-0.21,0.045,0.045], anchor='NE', zorder=1)\n",
    "newax.imshow(worker_icon)\n",
    "newax.axis('off')\n",
    "\n",
    "#Setting legend (coordinates to locate it are regarding last axis wich is one of the icons)\n",
    "legend_elements = [Patch(facecolor='m', edgecolor='m', label='Survivability limits\\n (3H-exposure)'),\n",
    "                   Line2D([0], [0], color='k', lw=4, label='T$_w$ 35°C'),\n",
    "                   Patch(facecolor=(0,0,0,0), edgecolor='k',hatch='\\\\\\\\\\///', label='Survivable but not liveable \\n(no activity possible without \\nstoring heat internally)')]\n",
    "\n",
    "\n",
    "plt.legend(handles=legend_elements,bbox_to_anchor=(10,5.5),fontsize =12.5,ncol =3)\n",
    "plt.text(0.18,-0.35,'**Safe sustained activity',transform=ax.transAxes,fontsize = 11) #Setting text legend\n",
    "\n",
    "plt.savefig(path_save+version+'_livability_for_3HSurv_conditions'+sun+'_'+name_profile+'.png',dpi=400,transparent=False,bbox_inches='tight')   \n",
    "plt.show();plt.close()\n"
   ]
  },
  {
   "cell_type": "code",
   "execution_count": null,
   "id": "baf1ffe5",
   "metadata": {},
   "outputs": [],
   "source": []
  }
 ],
 "metadata": {
  "kernelspec": {
   "display_name": "base",
   "language": "python",
   "name": "python3"
  },
  "language_info": {
   "codemirror_mode": {
    "name": "ipython",
    "version": 3
   },
   "file_extension": ".py",
   "mimetype": "text/x-python",
   "name": "python",
   "nbconvert_exporter": "python",
   "pygments_lexer": "ipython3",
   "version": "3.9.7"
  }
 },
 "nbformat": 4,
 "nbformat_minor": 5
}
