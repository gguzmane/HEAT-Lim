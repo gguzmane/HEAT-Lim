{
 "cells": [
  {
   "cell_type": "markdown",
   "metadata": {},
   "source": [
    "# Survivability matrix tutorial\n",
    "\n",
    "This code is going to introduce you in the estimation of survivability matrices (`survivability` and `flag_survivability`) replicating graphs 2, S2, or S3 in Vanos et al. (2023). For this exercise, we are taking possible humidity values for temperatures between 25 and 60°C. Notice that radiation and wind are fixed here. Therefore, if your analysis has the same considerations, you could use these matrices as look-up tables. Otherwise, you will need to run the algorithm for each environmental condition and person setup. This analysis is intended to be applied for time frames that match global climate models with temporal resolution of 3 and 6 hours, parameter that can be set with `exp_time` variable. \n",
    "\n",
    "## Inputs\n",
    "- Range of temperatures and humidity\n",
    "- Type of humidity metric\n",
    "- Personal profile description\n",
    "- Matrix of wet bulb temperature (Tw) (This is only for comparison purposes with Tw=35°C)\n",
    "\n",
    "## Outputs\n",
    "\n",
    "- Survivability matrices:\n",
    "\n",
    "   1. `survivability`: A boolean (True,False) variable that dictates whether a person with a given personal profile survive a given thermal environment.\n",
    "   \n",
    "   2. `flag_survivability`: An integer (1 to 5) variable indicating the survivability type/vategory according to the physiological constraints imposed in this model\n",
    "- Survivability lines from survivability matrices (useful to plot).\n",
    "- Plot of survivability matrices with the category of survivability constraints.\n",
    "\n",
    "To obtain more details regarding the rationale behind these methods,look for session \"methods\" and their detail in the supplemental material in Vanos et al.(2023). \n",
    "\n",
    "Notice you need to change manually what type of humidity metric you want in the y-axis when indicated in the code with the `variable` version. You can choose between:\n",
    "\n",
    "- rh: Relative humidity (%) \n",
    "- wv: Water vapor pressure (mmHg)\n",
    "- q: Specific humidity (g/kg)\n",
    "\n",
    "Also, you can set up the personal profile you want to consider in your analysis by changing the personal profile file and selecting the appropriate value for the variable `name_profile`.\n",
    "\n",
    "Please cite the method Vanos, J., Guzman-Echavarria, G., Baldwin, J. W., Bongers, C., Ebi, K. L., & Jay, O. (2023). A physiological approach for assessing human survivability and liveability to heat in a changing climate. Nature Communications. Also, consider acknowledging this effort to make possible a straightforward application of this analysis, citing:\n",
    "Guzman-Echavarria and Vanos (2023) Physiological-based estimations of human survivability and liveability to heat in a changing climate (V1.0.0) from Zenodo repository.\n",
    "\n",
    "\n",
    "~Thanks to \tHaley Staudmyer for helping with feedback and comments implementing this tutorial.\n"
   ]
  },
  {
   "cell_type": "markdown",
   "metadata": {},
   "source": [
    "# Loading packages and setting directories"
   ]
  },
  {
   "cell_type": "code",
   "execution_count": null,
   "metadata": {},
   "outputs": [],
   "source": [
    "#Loading needed packages to run the analysis as well as formatting for the plots (changes in the default runtime configuration rcParams).\n",
    "import HEATLim as HEATLim\n",
    "import numpy as np \n",
    "import pylab as plt \n",
    "import glob\n",
    "import pandas as pd\n",
    "import pickle\n",
    "import matplotlib.gridspec as gridspec\n",
    "from metpy.units import units\n",
    "import metpy.calc as mpcalc\n",
    "\n",
    "\n",
    "from matplotlib import rcParams\n",
    "rcParams['legend.frameon']= False \n",
    "rcParams['legend.markerscale']=2.\n",
    "rcParams['legend.fontsize']=14.\n",
    "rcParams['axes.edgecolor']='0.8'\n",
    "rcParams['axes.labelcolor']='0.15'\n",
    "rcParams['axes.linewidth']='0.8'\n",
    "rcParams['axes.labelsize']=14\n",
    "rcParams['axes.titlesize']=19\n",
    "rcParams[u'text.color']= u'.15'\n",
    "rcParams[u'xtick.direction']= u'in'\n",
    "rcParams[u'xtick.major.width']= 0.5\n",
    "rcParams[u'xtick.labelsize']= 13\n",
    "rcParams[u'ytick.labelsize']= 13\n",
    "rcParams[u'ytick.color']=u'.15'\n",
    "rcParams[u'ytick.direction']=u'in'\n",
    "rcParams[ u'font.sans-serif']=[u'Arial',\n",
    "                               u'Liberation Sans',\n",
    "                               u'Bitstream Vera Sans',\n",
    "                               u'sans-serif']\n",
    "import warnings\n",
    "warnings.filterwarnings(\"ignore\")\n",
    "\n",
    "#Loading color pallete, bins and normalization to plot survivability matrix\n",
    "cmap_survivability, bins_survivability, norm_survivability, ticks_survivability = HEATLim.Survivability_cmap()\n",
    "\n",
    "\n",
    "#To set legends\n",
    "from matplotlib.patches import Patch\n",
    "from matplotlib.lines import Line2D"
   ]
  },
  {
   "cell_type": "code",
   "execution_count": null,
   "metadata": {},
   "outputs": [],
   "source": [
    "#Defining working directories (You need to change this to your local directory)\n",
    "workdir = workdir = 'C:/Users/gguzma20/ASU Dropbox/Gisel Guzman/NSF_CAREER_shared_folder/7.1_Survivability Paper Development/HEAT-Lim_GitHub/PyHHB/' #This is the folder in which all the code and data are stored.\n",
    "\n",
    "\n",
    "path_profiles  = workdir + 'personal_profiles/'\n",
    "list_profiles = glob.glob(path_profiles+'*.txt') #To list all the profiles names in the folder\n",
    "\n",
    "path_save = workdir + 'outputs/'#This is the folder in which all the outputs from this code will be saved.\n"
   ]
  },
  {
   "cell_type": "markdown",
   "metadata": {},
   "source": [
    "## Chosing fixed parameters in the model for this tutorial:"
   ]
  },
  {
   "cell_type": "code",
   "execution_count": null,
   "metadata": {},
   "outputs": [
    {
     "data": {
      "text/plain": [
       "2426"
      ]
     },
     "execution_count": 5,
     "metadata": {},
     "output_type": "execute_result"
    }
   ],
   "source": [
    "#Environmental settings\n",
    "version = 'rh' # The humidity options are rh (relative humidity), wv (water vapor pressure), or q (specific humidity)\n",
    "temperature = np.arange(25,60,0.1) #Create a range of temperatures we care about\n",
    "sun = 'Night-Indoors' #Options are 'Night-Indoors','Day-Outdoors'\n",
    "'see below in the code how the conditional is set for radiation to indicate wether the person is at shade or exposed to partly-cloudy conditions.'\n",
    "Av_ms = 1 #Air velocity in (m/s)\n",
    "barometric_pressure = 1013 #in hPa ONLY to obtain water vapor pressure when specific humidity is used as humidity metric.\n",
    "\n",
    "#Personal profile settings\n",
    "name_profile = 'Young_adult' #Options are'Young_adult','65_over'\n",
    "\n",
    "#Time of exposure (temporal resolution of the climate model output)\n",
    "exp_time = 6 #Options are 3, 6 (in hours)\n",
    "\n",
    "#Read in the heat of vaporisation of sweat at 30⁰C, 2426 J/g\n",
    "Lh_vap = HEATLim.Lh_vap\n",
    "Lh_vap"
   ]
  },
  {
   "cell_type": "markdown",
   "metadata": {},
   "source": [
    "## Input data set-up\n",
    "**Setting up the envitonmental conditions**\n"
   ]
  },
  {
   "cell_type": "code",
   "execution_count": null,
   "metadata": {},
   "outputs": [],
   "source": [
    "#creation of the temperature,humidity matrices according the values set in the previous cell.\n",
    "#Dealing with different types of humidity (input model is Ambient vapour pressure in kPa)\n",
    "if version == 'rh':\n",
    "    humidity =  np.arange(0.5,100.5,0.5)\n",
    "    hum_label = 'Relative humidity (%)'\n",
    "    xx_temp, yy_humidity = np.meshgrid(temperature, humidity)\n",
    "    Psa_kPa = \tHEATLim.Psa_kPa_from_TaC(xx_temp)#Saturated vapor pressure in kPa\n",
    "    Pv  =   HEATLim.Pv_kPa_from_Psa_RH(Psa_kPa,yy_humidity) #Water vapor pressure in kPa\n",
    "\n",
    "if version == 'wv':\n",
    "    humidity =  np.arange(0,42.25,0.25)#mmHg\n",
    "    hum_label = 'Water vapor pressure (mmHg)'\n",
    "    xx_temp, yy_humidity = np.meshgrid(temperature, humidity)\n",
    "    Pv  =    (yy_humidity*units.mmHg).to('kPa').magnitude #Unit conversion from mmHg to kPa\n",
    "\n",
    "if version == 'q': #Here we assume this is a location at sea level pressure.\n",
    "    humidity = np.arange(0,40.2,0.2)\n",
    "    hum_label = 'Specific humidity (g/kg)'\n",
    "    xx_temp, yy_humidity = np.meshgrid(temperature, humidity)\n",
    "    atm_sl_p = np.ones(xx_temp.shape)*barometric_pressure #Seting a\n",
    "    yy_rh = mpcalc.relative_humidity_from_specific_humidity(atm_sl_p*units.hPa,xx_temp*units.degC, yy_humidity /1000)*100\n",
    "    Psa_kPa = HEATLim.Psa_kPa_from_TaC(xx_temp)#Saturated vapor pressure in kPa\n",
    "    Pv  =   HEATLim.Pv_kPa_from_Psa_RH(Psa_kPa,yy_rh) #Ambient vapor pressure in kPa\n",
    "\n",
    "#Reading the Tw matrix that matches the humidity metric. These matrices were estimated previously using JPL Davies-Jones method.\n",
    "WBT_matrix = pd.read_csv(workdir+'ancillary/'+version+'_version_WBT_matrix.csv', header = 0, index_col =0)\n"
   ]
  },
  {
   "cell_type": "code",
   "execution_count": 7,
   "metadata": {},
   "outputs": [
    {
     "data": {
      "text/plain": [
       "array([[25. , 25.1, 25.2, ..., 59.7, 59.8, 59.9],\n",
       "       [25. , 25.1, 25.2, ..., 59.7, 59.8, 59.9],\n",
       "       [25. , 25.1, 25.2, ..., 59.7, 59.8, 59.9],\n",
       "       ...,\n",
       "       [25. , 25.1, 25.2, ..., 59.7, 59.8, 59.9],\n",
       "       [25. , 25.1, 25.2, ..., 59.7, 59.8, 59.9],\n",
       "       [25. , 25.1, 25.2, ..., 59.7, 59.8, 59.9]])"
      ]
     },
     "execution_count": 7,
     "metadata": {},
     "output_type": "execute_result"
    }
   ],
   "source": [
    "# See inputs\n",
    "xx_temp"
   ]
  },
  {
   "cell_type": "code",
   "execution_count": 8,
   "metadata": {},
   "outputs": [
    {
     "data": {
      "text/plain": [
       "array([[  0.5,   0.5,   0.5, ...,   0.5,   0.5,   0.5],\n",
       "       [  1. ,   1. ,   1. , ...,   1. ,   1. ,   1. ],\n",
       "       [  1.5,   1.5,   1.5, ...,   1.5,   1.5,   1.5],\n",
       "       ...,\n",
       "       [ 99. ,  99. ,  99. , ...,  99. ,  99. ,  99. ],\n",
       "       [ 99.5,  99.5,  99.5, ...,  99.5,  99.5,  99.5],\n",
       "       [100. , 100. , 100. , ..., 100. , 100. , 100. ]])"
      ]
     },
     "execution_count": 8,
     "metadata": {},
     "output_type": "execute_result"
    }
   ],
   "source": [
    "yy_humidity"
   ]
  },
  {
   "cell_type": "code",
   "execution_count": 9,
   "metadata": {},
   "outputs": [
    {
     "data": {
      "text/html": [
       "<div>\n",
       "<style scoped>\n",
       "    .dataframe tbody tr th:only-of-type {\n",
       "        vertical-align: middle;\n",
       "    }\n",
       "\n",
       "    .dataframe tbody tr th {\n",
       "        vertical-align: top;\n",
       "    }\n",
       "\n",
       "    .dataframe thead th {\n",
       "        text-align: right;\n",
       "    }\n",
       "</style>\n",
       "<table border=\"1\" class=\"dataframe\">\n",
       "  <thead>\n",
       "    <tr style=\"text-align: right;\">\n",
       "      <th></th>\n",
       "      <th>25.0</th>\n",
       "      <th>25.1</th>\n",
       "      <th>25.200000000000003</th>\n",
       "      <th>25.300000000000004</th>\n",
       "      <th>25.400000000000006</th>\n",
       "      <th>25.500000000000007</th>\n",
       "      <th>25.60000000000001</th>\n",
       "      <th>25.70000000000001</th>\n",
       "      <th>25.80000000000001</th>\n",
       "      <th>25.900000000000013</th>\n",
       "      <th>...</th>\n",
       "      <th>59.00000000000048</th>\n",
       "      <th>59.100000000000485</th>\n",
       "      <th>59.200000000000486</th>\n",
       "      <th>59.30000000000049</th>\n",
       "      <th>59.40000000000049</th>\n",
       "      <th>59.50000000000049</th>\n",
       "      <th>59.60000000000049</th>\n",
       "      <th>59.70000000000049</th>\n",
       "      <th>59.800000000000495</th>\n",
       "      <th>59.900000000000496</th>\n",
       "    </tr>\n",
       "  </thead>\n",
       "  <tbody>\n",
       "    <tr>\n",
       "      <th>0.5</th>\n",
       "      <td>7.57</td>\n",
       "      <td>7.62</td>\n",
       "      <td>7.66</td>\n",
       "      <td>7.71</td>\n",
       "      <td>7.75</td>\n",
       "      <td>7.80</td>\n",
       "      <td>7.84</td>\n",
       "      <td>7.89</td>\n",
       "      <td>7.93</td>\n",
       "      <td>7.98</td>\n",
       "      <td>...</td>\n",
       "      <td>19.98</td>\n",
       "      <td>20.01</td>\n",
       "      <td>20.04</td>\n",
       "      <td>20.07</td>\n",
       "      <td>20.10</td>\n",
       "      <td>20.13</td>\n",
       "      <td>20.16</td>\n",
       "      <td>20.19</td>\n",
       "      <td>20.22</td>\n",
       "      <td>20.25</td>\n",
       "    </tr>\n",
       "    <tr>\n",
       "      <th>1.0</th>\n",
       "      <td>7.72</td>\n",
       "      <td>7.77</td>\n",
       "      <td>7.81</td>\n",
       "      <td>7.86</td>\n",
       "      <td>7.91</td>\n",
       "      <td>7.95</td>\n",
       "      <td>8.00</td>\n",
       "      <td>8.04</td>\n",
       "      <td>8.09</td>\n",
       "      <td>8.13</td>\n",
       "      <td>...</td>\n",
       "      <td>20.65</td>\n",
       "      <td>20.68</td>\n",
       "      <td>20.71</td>\n",
       "      <td>20.75</td>\n",
       "      <td>20.78</td>\n",
       "      <td>20.81</td>\n",
       "      <td>20.85</td>\n",
       "      <td>20.88</td>\n",
       "      <td>20.91</td>\n",
       "      <td>20.95</td>\n",
       "    </tr>\n",
       "    <tr>\n",
       "      <th>1.5</th>\n",
       "      <td>7.87</td>\n",
       "      <td>7.92</td>\n",
       "      <td>7.96</td>\n",
       "      <td>8.01</td>\n",
       "      <td>8.06</td>\n",
       "      <td>8.10</td>\n",
       "      <td>8.15</td>\n",
       "      <td>8.20</td>\n",
       "      <td>8.24</td>\n",
       "      <td>8.29</td>\n",
       "      <td>...</td>\n",
       "      <td>21.27</td>\n",
       "      <td>21.31</td>\n",
       "      <td>21.35</td>\n",
       "      <td>21.38</td>\n",
       "      <td>21.42</td>\n",
       "      <td>21.45</td>\n",
       "      <td>21.49</td>\n",
       "      <td>21.53</td>\n",
       "      <td>21.56</td>\n",
       "      <td>21.60</td>\n",
       "    </tr>\n",
       "    <tr>\n",
       "      <th>2.0</th>\n",
       "      <td>8.01</td>\n",
       "      <td>8.06</td>\n",
       "      <td>8.11</td>\n",
       "      <td>8.16</td>\n",
       "      <td>8.20</td>\n",
       "      <td>8.25</td>\n",
       "      <td>8.30</td>\n",
       "      <td>8.34</td>\n",
       "      <td>8.39</td>\n",
       "      <td>8.44</td>\n",
       "      <td>...</td>\n",
       "      <td>21.87</td>\n",
       "      <td>21.91</td>\n",
       "      <td>21.95</td>\n",
       "      <td>21.99</td>\n",
       "      <td>22.03</td>\n",
       "      <td>22.07</td>\n",
       "      <td>22.11</td>\n",
       "      <td>22.14</td>\n",
       "      <td>22.18</td>\n",
       "      <td>22.22</td>\n",
       "    </tr>\n",
       "    <tr>\n",
       "      <th>2.5</th>\n",
       "      <td>8.16</td>\n",
       "      <td>8.20</td>\n",
       "      <td>8.25</td>\n",
       "      <td>8.30</td>\n",
       "      <td>8.35</td>\n",
       "      <td>8.40</td>\n",
       "      <td>8.44</td>\n",
       "      <td>8.49</td>\n",
       "      <td>8.54</td>\n",
       "      <td>8.59</td>\n",
       "      <td>...</td>\n",
       "      <td>22.45</td>\n",
       "      <td>22.49</td>\n",
       "      <td>22.53</td>\n",
       "      <td>22.57</td>\n",
       "      <td>22.61</td>\n",
       "      <td>22.66</td>\n",
       "      <td>22.70</td>\n",
       "      <td>22.74</td>\n",
       "      <td>22.78</td>\n",
       "      <td>22.82</td>\n",
       "    </tr>\n",
       "    <tr>\n",
       "      <th>...</th>\n",
       "      <td>...</td>\n",
       "      <td>...</td>\n",
       "      <td>...</td>\n",
       "      <td>...</td>\n",
       "      <td>...</td>\n",
       "      <td>...</td>\n",
       "      <td>...</td>\n",
       "      <td>...</td>\n",
       "      <td>...</td>\n",
       "      <td>...</td>\n",
       "      <td>...</td>\n",
       "      <td>...</td>\n",
       "      <td>...</td>\n",
       "      <td>...</td>\n",
       "      <td>...</td>\n",
       "      <td>...</td>\n",
       "      <td>...</td>\n",
       "      <td>...</td>\n",
       "      <td>...</td>\n",
       "      <td>...</td>\n",
       "      <td>...</td>\n",
       "    </tr>\n",
       "    <tr>\n",
       "      <th>98.0</th>\n",
       "      <td>24.76</td>\n",
       "      <td>24.86</td>\n",
       "      <td>24.96</td>\n",
       "      <td>25.06</td>\n",
       "      <td>25.16</td>\n",
       "      <td>25.26</td>\n",
       "      <td>25.35</td>\n",
       "      <td>25.45</td>\n",
       "      <td>25.55</td>\n",
       "      <td>25.65</td>\n",
       "      <td>...</td>\n",
       "      <td>NaN</td>\n",
       "      <td>NaN</td>\n",
       "      <td>NaN</td>\n",
       "      <td>NaN</td>\n",
       "      <td>NaN</td>\n",
       "      <td>NaN</td>\n",
       "      <td>NaN</td>\n",
       "      <td>NaN</td>\n",
       "      <td>NaN</td>\n",
       "      <td>NaN</td>\n",
       "    </tr>\n",
       "    <tr>\n",
       "      <th>98.5</th>\n",
       "      <td>24.82</td>\n",
       "      <td>24.92</td>\n",
       "      <td>25.02</td>\n",
       "      <td>25.12</td>\n",
       "      <td>25.22</td>\n",
       "      <td>25.32</td>\n",
       "      <td>25.42</td>\n",
       "      <td>25.52</td>\n",
       "      <td>25.62</td>\n",
       "      <td>25.72</td>\n",
       "      <td>...</td>\n",
       "      <td>NaN</td>\n",
       "      <td>NaN</td>\n",
       "      <td>NaN</td>\n",
       "      <td>NaN</td>\n",
       "      <td>NaN</td>\n",
       "      <td>NaN</td>\n",
       "      <td>NaN</td>\n",
       "      <td>NaN</td>\n",
       "      <td>NaN</td>\n",
       "      <td>NaN</td>\n",
       "    </tr>\n",
       "    <tr>\n",
       "      <th>99.0</th>\n",
       "      <td>24.88</td>\n",
       "      <td>24.98</td>\n",
       "      <td>25.08</td>\n",
       "      <td>25.18</td>\n",
       "      <td>25.28</td>\n",
       "      <td>25.38</td>\n",
       "      <td>25.48</td>\n",
       "      <td>25.58</td>\n",
       "      <td>25.68</td>\n",
       "      <td>25.78</td>\n",
       "      <td>...</td>\n",
       "      <td>NaN</td>\n",
       "      <td>NaN</td>\n",
       "      <td>NaN</td>\n",
       "      <td>NaN</td>\n",
       "      <td>NaN</td>\n",
       "      <td>NaN</td>\n",
       "      <td>NaN</td>\n",
       "      <td>NaN</td>\n",
       "      <td>NaN</td>\n",
       "      <td>NaN</td>\n",
       "    </tr>\n",
       "    <tr>\n",
       "      <th>99.5</th>\n",
       "      <td>24.94</td>\n",
       "      <td>25.04</td>\n",
       "      <td>25.14</td>\n",
       "      <td>25.24</td>\n",
       "      <td>25.34</td>\n",
       "      <td>25.44</td>\n",
       "      <td>25.54</td>\n",
       "      <td>25.64</td>\n",
       "      <td>25.74</td>\n",
       "      <td>25.84</td>\n",
       "      <td>...</td>\n",
       "      <td>NaN</td>\n",
       "      <td>NaN</td>\n",
       "      <td>NaN</td>\n",
       "      <td>NaN</td>\n",
       "      <td>NaN</td>\n",
       "      <td>NaN</td>\n",
       "      <td>NaN</td>\n",
       "      <td>NaN</td>\n",
       "      <td>NaN</td>\n",
       "      <td>NaN</td>\n",
       "    </tr>\n",
       "    <tr>\n",
       "      <th>100.0</th>\n",
       "      <td>25.00</td>\n",
       "      <td>25.10</td>\n",
       "      <td>25.20</td>\n",
       "      <td>25.30</td>\n",
       "      <td>25.40</td>\n",
       "      <td>25.50</td>\n",
       "      <td>25.60</td>\n",
       "      <td>25.70</td>\n",
       "      <td>25.80</td>\n",
       "      <td>25.90</td>\n",
       "      <td>...</td>\n",
       "      <td>NaN</td>\n",
       "      <td>NaN</td>\n",
       "      <td>NaN</td>\n",
       "      <td>NaN</td>\n",
       "      <td>NaN</td>\n",
       "      <td>NaN</td>\n",
       "      <td>NaN</td>\n",
       "      <td>NaN</td>\n",
       "      <td>NaN</td>\n",
       "      <td>NaN</td>\n",
       "    </tr>\n",
       "  </tbody>\n",
       "</table>\n",
       "<p>200 rows × 350 columns</p>\n",
       "</div>"
      ],
      "text/plain": [
       "        25.0   25.1  25.200000000000003  25.300000000000004  \\\n",
       "0.5     7.57   7.62                7.66                7.71   \n",
       "1.0     7.72   7.77                7.81                7.86   \n",
       "1.5     7.87   7.92                7.96                8.01   \n",
       "2.0     8.01   8.06                8.11                8.16   \n",
       "2.5     8.16   8.20                8.25                8.30   \n",
       "...      ...    ...                 ...                 ...   \n",
       "98.0   24.76  24.86               24.96               25.06   \n",
       "98.5   24.82  24.92               25.02               25.12   \n",
       "99.0   24.88  24.98               25.08               25.18   \n",
       "99.5   24.94  25.04               25.14               25.24   \n",
       "100.0  25.00  25.10               25.20               25.30   \n",
       "\n",
       "       25.400000000000006  25.500000000000007  25.60000000000001  \\\n",
       "0.5                  7.75                7.80               7.84   \n",
       "1.0                  7.91                7.95               8.00   \n",
       "1.5                  8.06                8.10               8.15   \n",
       "2.0                  8.20                8.25               8.30   \n",
       "2.5                  8.35                8.40               8.44   \n",
       "...                   ...                 ...                ...   \n",
       "98.0                25.16               25.26              25.35   \n",
       "98.5                25.22               25.32              25.42   \n",
       "99.0                25.28               25.38              25.48   \n",
       "99.5                25.34               25.44              25.54   \n",
       "100.0               25.40               25.50              25.60   \n",
       "\n",
       "       25.70000000000001  25.80000000000001  25.900000000000013  ...  \\\n",
       "0.5                 7.89               7.93                7.98  ...   \n",
       "1.0                 8.04               8.09                8.13  ...   \n",
       "1.5                 8.20               8.24                8.29  ...   \n",
       "2.0                 8.34               8.39                8.44  ...   \n",
       "2.5                 8.49               8.54                8.59  ...   \n",
       "...                  ...                ...                 ...  ...   \n",
       "98.0               25.45              25.55               25.65  ...   \n",
       "98.5               25.52              25.62               25.72  ...   \n",
       "99.0               25.58              25.68               25.78  ...   \n",
       "99.5               25.64              25.74               25.84  ...   \n",
       "100.0              25.70              25.80               25.90  ...   \n",
       "\n",
       "       59.00000000000048  59.100000000000485  59.200000000000486  \\\n",
       "0.5                19.98               20.01               20.04   \n",
       "1.0                20.65               20.68               20.71   \n",
       "1.5                21.27               21.31               21.35   \n",
       "2.0                21.87               21.91               21.95   \n",
       "2.5                22.45               22.49               22.53   \n",
       "...                  ...                 ...                 ...   \n",
       "98.0                 NaN                 NaN                 NaN   \n",
       "98.5                 NaN                 NaN                 NaN   \n",
       "99.0                 NaN                 NaN                 NaN   \n",
       "99.5                 NaN                 NaN                 NaN   \n",
       "100.0                NaN                 NaN                 NaN   \n",
       "\n",
       "       59.30000000000049  59.40000000000049  59.50000000000049  \\\n",
       "0.5                20.07              20.10              20.13   \n",
       "1.0                20.75              20.78              20.81   \n",
       "1.5                21.38              21.42              21.45   \n",
       "2.0                21.99              22.03              22.07   \n",
       "2.5                22.57              22.61              22.66   \n",
       "...                  ...                ...                ...   \n",
       "98.0                 NaN                NaN                NaN   \n",
       "98.5                 NaN                NaN                NaN   \n",
       "99.0                 NaN                NaN                NaN   \n",
       "99.5                 NaN                NaN                NaN   \n",
       "100.0                NaN                NaN                NaN   \n",
       "\n",
       "       59.60000000000049  59.70000000000049  59.800000000000495  \\\n",
       "0.5                20.16              20.19               20.22   \n",
       "1.0                20.85              20.88               20.91   \n",
       "1.5                21.49              21.53               21.56   \n",
       "2.0                22.11              22.14               22.18   \n",
       "2.5                22.70              22.74               22.78   \n",
       "...                  ...                ...                 ...   \n",
       "98.0                 NaN                NaN                 NaN   \n",
       "98.5                 NaN                NaN                 NaN   \n",
       "99.0                 NaN                NaN                 NaN   \n",
       "99.5                 NaN                NaN                 NaN   \n",
       "100.0                NaN                NaN                 NaN   \n",
       "\n",
       "       59.900000000000496  \n",
       "0.5                 20.25  \n",
       "1.0                 20.95  \n",
       "1.5                 21.60  \n",
       "2.0                 22.22  \n",
       "2.5                 22.82  \n",
       "...                   ...  \n",
       "98.0                  NaN  \n",
       "98.5                  NaN  \n",
       "99.0                  NaN  \n",
       "99.5                  NaN  \n",
       "100.0                 NaN  \n",
       "\n",
       "[200 rows x 350 columns]"
      ]
     },
     "execution_count": 9,
     "metadata": {},
     "output_type": "execute_result"
    }
   ],
   "source": [
    "WBT_matrix"
   ]
  },
  {
   "cell_type": "code",
   "execution_count": 10,
   "metadata": {},
   "outputs": [
    {
     "data": {
      "image/png": "[encoded data removed]",
      "text/plain": [
       "<Figure size 360x360 with 2 Axes>"
      ]
     },
     "metadata": {
      "needs_background": "light"
     },
     "output_type": "display_data"
    }
   ],
   "source": [
    "xx = xx_temp\n",
    "yy = yy_humidity\n",
    "var_colores = WBT_matrix\n",
    "colormap = 'twilight_shifted'\n",
    "levels = np.arange(-20, 71, 0.2)\n",
    "unit_colores = 'Wet bulb temperature (°C)'\n",
    "\n",
    "fig = plt.figure(figsize=(5, 5))\n",
    "cs = plt.contourf(xx, yy, var_colores, cmap = colormap, levels = levels)\n",
    "cb = plt.contour(xx,yy,var_colores,colors = 'Black',levels= np.arange(-10,70,5))\n",
    "plt.clabel(cb, fmt = '%2.1d', colors = 'k', fontsize=13) #contour line labels\n",
    "\n",
    "plt.title('T$_w$ $f (Air_{t},Humidity)$', fontsize = 16)\n",
    "\n",
    "#Configuración de colorbar\n",
    "cbar = plt.colorbar(cs,pad=0.07,fraction=0.03,ticks=list(np.arange(-20,70,10)))\n",
    "cbar.ax.tick_params(labelsize=13)\n",
    "cbar.set_label(unit_colores,fontsize = 14)\n",
    "\n",
    "plt.xlabel('Air temperature (°C)')\n",
    "plt.ylabel(hum_label)  \n",
    "plt.show();plt.close()"
   ]
  },
  {
   "cell_type": "markdown",
   "metadata": {},
   "source": [
    "**Reading the personal profile information:** This is the text file where you can customize anthropometrics, activities and clothing for your target population. To understand better the meaning, use and implications of human heat exchange, we recommend reading Cramer and Jay (2019).\n",
    "\n",
    "*Cramer, M. N., & Jay, O. (2019). Cores of reproducibility in physiology partitional calorimetry. Journal of Applied Physiology, 126(2), 267–277. https://doi.org/10.1152/japplphysiol.00191.2018*\n",
    "\n",
    "- `id`: identification of your profile\n",
    "- `name`: name to add labels in the graphics (once this has spaces, it is not the best to use to save outputs\n",
    "- `name_profile`: name of the text file with this information\n",
    "- `Mass`: Mass of the human body (kg)\n",
    "- `Height`: Height of the human body (m)\n",
    "- `AD`: Dubois-Dubois surface corporal area (m2)\n",
    "- `Tsk_C`: Mean skin temperature (⁰C)\n",
    "- `A_eff`: Effective radiative area of the body (dimensionless)\t\n",
    "- `Emm_sk`: Area weighted emissivity of the clothed body surface (dimensionless)\t\n",
    "- `Icl`: Clothing insulation value (Iclo)\t\n",
    "- `Re_cl`: Evaporative heat transfer resistance of the clothing layer (m2·kPa/W)\t\n",
    "- `M`: (Hprod) Internal metabolic heat production in W/kg \n",
    "- `W`: External work performed by the person W/g (For this application W=0).\n",
    "- `wmax_condition`: Maximum skin wettedness bibliography source to be set with HEATLim. (dimensionless)\n",
    "- `smax_rate`: Maximum sustained sweat rate (L/hr)\n",
    "\n",
    "**Disclaimer** `M` here is not the rate of metabolic energy expenditure as taken in Cramer and Jay, (2019) in Watts. For this application, we need the internal metabolic heat production to be a function of a person's weight. The reason behind that is to be able to calculate a maximum permissible net heat loss and thus asses if a linear increase of internal temperature with time will lead to a heat stroke death (See explanation in Vanos, et al. (2023)). \n",
    "`M` in this modeling effort represents internal metabolic heat production (Hprod = `M` - `W`), once we assume a null external work performed by the person (W=0).\n",
    "\n",
    "\n",
    "Here, the value of `M`= 1.8 W/kg is equivalent to 1.5 MET, representing a person resting. To see the detail of the conversion factor from Watts to MET you can see the function documentation of `HEATLim.MetabolicRate_W_to_MET_Mass`.\n"
   ]
  },
  {
   "cell_type": "code",
   "execution_count": null,
   "metadata": {},
   "outputs": [
    {
     "data": {
      "text/plain": [
       "{'id': '001',\n",
       " 'name': '18-40 years',\n",
       " 'name_file': 'Young_adult_survivability',\n",
       " 'Mass': '56.2',\n",
       " 'Height': nan,\n",
       " 'AD': '1.6',\n",
       " 'Tsk_C': '35',\n",
       " 'A_eff': '0.70',\n",
       " 'Emm_sk': '0.98',\n",
       " 'Icl': '0',\n",
       " 'Re_cl': '0',\n",
       " 'M': '1.8',\n",
       " 'W': '0',\n",
       " 'wmax_condition': 'YNG_Morris_2021',\n",
       " 'smax_rate': '0.75'}"
      ]
     },
     "execution_count": 11,
     "metadata": {},
     "output_type": "execute_result"
    }
   ],
   "source": [
    "profile = HEATLim.read_personal_profiles(path_profiles + name_profile+'_survivability.txt')\n",
    "profile"
   ]
  },
  {
   "cell_type": "markdown",
   "metadata": {},
   "source": [
    "If the Dubois-Dubois surface corporal area `AD` is given in the profile file and is obtained from there. otherwise, it is estimated from `Mass` and `Height`:"
   ]
  },
  {
   "cell_type": "code",
   "execution_count": null,
   "metadata": {},
   "outputs": [],
   "source": [
    "if ~np.isfinite(float(profile['AD'])):\n",
    "    AD    = HEATLim.AD_from_mass_height(float(profile['Mass']),float(profile['Height'])) #m2\n",
    "else:\n",
    "    AD = float(profile['AD'])\n",
    "\n",
    "AD =  np.ones(xx_temp.shape)*AD"
   ]
  },
  {
   "cell_type": "markdown",
   "metadata": {},
   "source": [
    "**Disclaimer**: To simulate a radiation condition representative for **shade or night time**, it is assumed that mean radiant temperature equals air temperature. For **sun-exposed conditions**, we asummed a hypothetical threshold to represent partly-cloudy conditions based on micro-climate measurements from Guzman-Echavarria et al (2022) paper. To do this analysis with actual radiation data, researchers should account for the estimations of mean radiant temperature or operative temperature with the outputs of the climate models.\n",
    "\n",
    "*Guzman-Echavarria, G., Middel, A., & Vanos, J. (2022). Beyond heat exposure — new methods to quantify and link personal heat exposure, stress, and strain in diverse populations and climates: The journal temperature toolbox. Temperature, 10(03), 358–378. https://doi.org/10.1080/23328940.2022.2149024*\n",
    "\n",
    "**Here, matrices for environmental variables are created or renamed for homogeneous formatting:** "
   ]
  },
  {
   "cell_type": "code",
   "execution_count": 13,
   "metadata": {},
   "outputs": [],
   "source": [
    "Ta_C = xx_temp\n",
    "Pv_kPa  =   Pv\n",
    "Av_ms  =  np.ones(xx_temp.shape)*Av_ms# Air velocity (m/s)\n",
    "\n",
    "if sun == 'Night-Indoors':\n",
    "    mrt_C  =  Ta_C#indoor mrt = Ta (⁰C)\n",
    "elif sun == 'Day-Outdoors':\n",
    "    mrt_C  =  Ta_C + 15 #outdoor mrt = Ta (⁰C) (Threshold to an hyphotetical Partly Cloudy Condition) based on the measurements from Guzman-Echavarria et al (2022)\n",
    "\n",
    "else:\n",
    "    raise ValueError(\"Non-valid radiation condition\")"
   ]
  },
  {
   "cell_type": "markdown",
   "metadata": {},
   "source": [
    "# Model run: estimation of survivability matrix\n",
    "\n",
    "### Estimation of the human-environment heat exchange avenues:\n",
    "Setting the **internal heat production** (Hprod) term using `M` parameter from `profile` dictionary:"
   ]
  },
  {
   "cell_type": "code",
   "execution_count": 14,
   "metadata": {},
   "outputs": [],
   "source": [
    "#Internal heat production at resting (W) equivalent to 1.5 METs\n",
    "M =  np.ones(xx_temp.shape)* float(profile['M'])* float(profile['Mass']) #W/kg *Kg"
   ]
  },
  {
   "cell_type": "markdown",
   "metadata": {},
   "source": [
    "**Estimation dry heat loss from the skin (combined heat flux via convection + radiation)**"
   ]
  },
  {
   "cell_type": "code",
   "execution_count": null,
   "metadata": {},
   "outputs": [],
   "source": [
    "# Defining properties to estimate the combined convective and radiative heat fluxes.\n",
    "Tsk_C  = np.ones(xx_temp.shape)*float(profile['Tsk_C']) #Skin temperature, assumed to be held constant at 35°C\n",
    "Emm_sk = np.ones(xx_temp.shape)*float(profile['Emm_sk']) #Area-weighted emissivity of the clothed body surface (dimensionless)\n",
    "Ar_AD  = np.ones(xx_temp.shape)*float(profile['A_eff']) #Effective radiative area of the body (dimensionless)\n",
    "Icl    = np.ones(xx_temp.shape)*float(profile['Icl']) #Insulation clothing value (CLO)\n",
    "\n",
    "\n",
    "hc_cof  = HEATLim.hc_cof_from_Av(Av_ms) #W/m2K Convective heat transfer coefficient.\n",
    "hr_cof  = HEATLim.hr_cof_from_radiant_features(mrt_C,Tsk_C,Emm_sk,Ar_AD) #Linear radiative heat transfer coefficient (W/m2K).\n",
    "h_cof   = HEATLim.h_coef_from_hc_hr(hc_cof,hr_cof) # Combined heat transfer coefficient (W/m2K).\n",
    "to_C    = HEATLim.to_from_hr_tr_hc_ta(hr_cof,mrt_C,hc_cof,Ta_C) #Operative temperature (⁰C)\n",
    "\n",
    "#Estimation of combined dry heat loss via convection and radiation (W)\n",
    "Dry_Heat_Loss =  HEATLim.Dry_Heat_Loss_c_plus_r(Tsk_C,to_C,Icl,h_cof,AD)\n"
   ]
  },
  {
   "cell_type": "markdown",
   "metadata": {},
   "source": [
    "**Heat loss from respiration (Convection + Evaporation)**"
   ]
  },
  {
   "cell_type": "code",
   "execution_count": null,
   "metadata": {},
   "outputs": [],
   "source": [
    "# Estimation of dry respiratory heat loss (W)\n",
    "Cres = HEATLim.Cres_from_M_Ta(M,Ta_C,AD)\n",
    "# Estimation of latent respiratory heat loss (W)\n",
    "Eres = HEATLim.Eres_from_M_Pa(M,Pv_kPa,AD)"
   ]
  },
  {
   "cell_type": "markdown",
   "metadata": {},
   "source": [
    "Once we have all the avenues of heat exchange (Equation 4 in the supplemental material), we can estimate the **Evaporative required heat loss** `Ereq` (Equation 14 in the supplemental material)."
   ]
  },
  {
   "cell_type": "code",
   "execution_count": null,
   "metadata": {},
   "outputs": [],
   "source": [
    "Re_cl = np.ones(xx_temp.shape)*float(profile['Re_cl']) #Evaporative resistance of clothing in m2·kPa/W\n",
    "\n",
    "#Estimation of evaporative required heat loss (W) \n",
    "Ereq = HEATLim.Ereq_from_HeatFluxes(M,0,Dry_Heat_Loss,Cres, Eres)"
   ]
  },
  {
   "cell_type": "markdown",
   "metadata": {},
   "source": [
    "Now, we are getting closer, and we are ready to estimate the different evaporative heat loss restrictions (`Emax_env`, `Emax_wettedness`, and `Emax_sweat`) that will ultimately determine if a person can survive or not in a thermal environment for 3 or 6 hours of steady-state exposure."
   ]
  },
  {
   "cell_type": "markdown",
   "metadata": {},
   "source": [
    "**Estimation biophysical (environmental + clothing) evaporative heat loss limit**\n",
    "\n",
    "This is directly linked with the humidity gradient between the environment and the skin surface and clothing resistance in the heat exchange (Equation 16 in the supplemental material). In very high humid climates, the drivers of evaporation are highly limiting."
   ]
  },
  {
   "cell_type": "code",
   "execution_count": null,
   "metadata": {},
   "outputs": [],
   "source": [
    "#Water vapour pressure at the skin (kPa), assumed to be that of saturated water (100% HR) vapour at skin temperature.\n",
    "Psk_s= HEATLim.Psa_kPa_from_TaC(Tsk_C) \n",
    "# Evaporative heat transfer coefficient (W/m2kPa).\n",
    "he_cof = HEATLim.he_cof(hc_cof)\n",
    "\n",
    "# Estimation of biophysical Emax (Env + clothing) (W)\n",
    "Emax_env = HEATLim.Emax_env(Psk_s,Pv_kPa,Re_cl,he_cof,Icl,AD)\n",
    "Emax_env[Emax_env<0] = 0 #This heat flux can not be negative."
   ]
  },
  {
   "cell_type": "markdown",
   "metadata": {},
   "source": [
    "**Estimation of the physiological (environmental + clothing + sweating capacity) evaporative heat loss limit**\n",
    "\n",
    "This is linked with the physiological capacity to saturate the skin surface due to a limited maximum skin wettedness (`wmax`) given their age and/or degree of acclimation/acclimatization, among other factors. In this evaporative limit, the biophysical limit is scaled by the maximum skin wettedness (Equation 19 in the supplemental material)."
   ]
  },
  {
   "cell_type": "code",
   "execution_count": null,
   "metadata": {},
   "outputs": [],
   "source": [
    "# Maximum skin wettedness: maximum portion of total body surface area that can be saturated with sweat.\n",
    "wmax = np.ones(xx_temp.shape)*HEATLim.wmax(profile['wmax_condition'])\n",
    "\n",
    "# Physiological Emax (Env + clothing + wettedness) \n",
    "Emax_wettedness = HEATLim.Emax_wettedness(wmax,Psk_s,Pv_kPa,Re_cl,he_cof,Icl,AD)\n",
    "Emax_wettedness[Emax_wettedness<0] = 0   #This heat flux can not be negative.     "
   ]
  },
  {
   "cell_type": "markdown",
   "metadata": {},
   "source": [
    "**Estimation of the physiological evaporative heat loss limit given by sweat production**\n",
    "\n",
    "In very hot and dry environments, evaporation is so efficient, and the sweating rate required to attain `Emax_env` may not be physiologically possible. The evaporative heat loss limit should account for the maximum rate (`Smax`, from `profile` dictionary) at which a person can segregate sweat. \n",
    "\n",
    "To be able to estimate the required sweat rate `Sreq` using the required evaporative heat loss to achieve heat balance `Ereq` , it is also necessary to know ahead of the expected sweating efficiency `r`, estimated as follows:"
   ]
  },
  {
   "cell_type": "code",
   "execution_count": null,
   "metadata": {},
   "outputs": [],
   "source": [
    "# Estimation of required skin wettedness (dimensionless)\n",
    "wreq = HEATLim.wreq_HSI_skin_wettedness(Ereq,Emax_env)\n",
    "# Estimation of expected sweating efficiency (dimensionless)\n",
    "r = HEATLim.Sweating_efficiency_r(wreq) \n",
    "#Estimation of required sweat rate  to maintain heat balance (L/h).\n",
    "Sreq =  HEATLim.Sreq(Ereq,r,Lh_vap)\n"
   ]
  },
  {
   "cell_type": "markdown",
   "metadata": {},
   "source": [
    "**Disclaimer**:  `Emax_sweat` assumes that all sweat evaporates over the skin, and the heat loss is equivalent to the heat released by sweat's latent heat of vaporization."
   ]
  },
  {
   "cell_type": "code",
   "execution_count": null,
   "metadata": {},
   "outputs": [],
   "source": [
    "Smax = np.ones(Ta_C.shape)*float(profile['smax_rate']) #Maximum sweat rate (L/h).\n",
    "\n",
    "#Estimation of the physiological evaporative heat loss based on capacity to secret sweat\n",
    "Emax_sweat = HEATLim.Emax_sweat_rate(Smax,Lh_vap,1,r)\n"
   ]
  },
  {
   "cell_type": "markdown",
   "metadata": {},
   "source": [
    "## Survivability assessment:\n",
    "\n",
    "Now, we have all the elements needed to apply the workflow criteria to assess if a person could survive the heat for 3 or 6H exposure.\n",
    "<img src=\"Survivability_method.png\" alt=\"Survivability_method\" width=\"600\"/>\n",
    "\n",
    "The function `HEATLim.Survivability` takes `exp_time`,`Ereq`,`Emax_wettedness`,`Emax_sweat`,`Sreq`,`Smax`, and `Mass` to apply each criteria of the above workflow and provide two outputs.\n",
    "\n",
    "`survivability`: A boolean (True, False) variable that dictates whether a person with a given personal profile survives a given thermal environment.\n",
    "\n",
    "`flag_survivability`: An integer (1 to 5) variable indicating the survivability type/category according to the physiological constraints imposed in this model\n",
    "1.\tsurvive while remaining within sweating limits\n",
    "2.\tsurvive despite exceeding sweating limits\n",
    "3.\tnot survive because the environment restricts heat loss too much (in high humidity)\n",
    "4.\tnot survive because the required sweat rate is not possible (in low humidity)\n",
    "5.\tnot survive due to both critical environmental heat loss restrictions (3rd argument) and not possible sweat rate to dissipate heat (4th argument)."
   ]
  },
  {
   "cell_type": "code",
   "execution_count": null,
   "metadata": {},
   "outputs": [],
   "source": [
    "survivability, flag_survivability = HEATLim.Survivability(exp_time,Ereq,Emax_wettedness,Emax_sweat,Sreq,Smax,float(profile['Mass']))"
   ]
  },
  {
   "cell_type": "code",
   "execution_count": 23,
   "metadata": {},
   "outputs": [
    {
     "data": {
      "text/plain": [
       "array([[ True,  True,  True, ..., False, False, False],\n",
       "       [ True,  True,  True, ..., False, False, False],\n",
       "       [ True,  True,  True, ..., False, False, False],\n",
       "       ...,\n",
       "       [ True,  True,  True, ..., False, False, False],\n",
       "       [ True,  True,  True, ..., False, False, False],\n",
       "       [ True,  True,  True, ..., False, False, False]])"
      ]
     },
     "execution_count": 23,
     "metadata": {},
     "output_type": "execute_result"
    }
   ],
   "source": [
    "survivability"
   ]
  },
  {
   "cell_type": "code",
   "execution_count": 24,
   "metadata": {},
   "outputs": [
    {
     "data": {
      "text/plain": [
       "array([[1., 1., 1., ..., 4., 4., 4.],\n",
       "       [1., 1., 1., ..., 4., 4., 4.],\n",
       "       [1., 1., 1., ..., 4., 4., 4.],\n",
       "       ...,\n",
       "       [1., 1., 1., ..., 5., 5., 5.],\n",
       "       [1., 1., 1., ..., 5., 5., 5.],\n",
       "       [1., 1., 1., ..., 5., 5., 5.]])"
      ]
     },
     "execution_count": 24,
     "metadata": {},
     "output_type": "execute_result"
    }
   ],
   "source": [
    "flag_survivability"
   ]
  },
  {
   "cell_type": "markdown",
   "metadata": {},
   "source": [
    "## Saving the matrices as text files"
   ]
  },
  {
   "cell_type": "code",
   "execution_count": 25,
   "metadata": {},
   "outputs": [],
   "source": [
    "# Saving survivability matrix as text file\n",
    "dfsurvivability = pd.DataFrame(index = humidity, columns = temperature)\n",
    "dfsurvivability[:] = survivability\n",
    "dfsurvivability.to_csv(path_save+version+'_survivability_array_'+sun+'_'+str(exp_time)+'H-'+name_profile+'.csv',header=True,index = True)\n",
    "\n",
    "# Saving survivability flags as text file\n",
    "dfflagsurvivability = pd.DataFrame(index = humidity, columns = temperature)\n",
    "dfflagsurvivability[:] = flag_survivability\n",
    "dfflagsurvivability.to_csv(path_save+version+'_flag_survivability_'+sun+'_'+str(exp_time)+'H-'+name_profile+'.csv',header=True,index = True)\n",
    "\n"
   ]
  },
  {
   "cell_type": "code",
   "execution_count": 26,
   "metadata": {},
   "outputs": [],
   "source": [
    "## Obtaining survivability lines to plot"
   ]
  },
  {
   "cell_type": "code",
   "execution_count": null,
   "metadata": {},
   "outputs": [
    {
     "data": {
      "text/html": [
       "<div>\n",
       "<style scoped>\n",
       "    .dataframe tbody tr th:only-of-type {\n",
       "        vertical-align: middle;\n",
       "    }\n",
       "\n",
       "    .dataframe tbody tr th {\n",
       "        vertical-align: top;\n",
       "    }\n",
       "\n",
       "    .dataframe thead th {\n",
       "        text-align: right;\n",
       "    }\n",
       "</style>\n",
       "<table border=\"1\" class=\"dataframe\">\n",
       "  <thead>\n",
       "    <tr style=\"text-align: right;\">\n",
       "      <th></th>\n",
       "      <th>rh</th>\n",
       "      <th>Tair</th>\n",
       "      <th>Tw</th>\n",
       "    </tr>\n",
       "  </thead>\n",
       "  <tbody>\n",
       "    <tr>\n",
       "      <th>0</th>\n",
       "      <td>0.5</td>\n",
       "      <td>54.6</td>\n",
       "      <td>18.62</td>\n",
       "    </tr>\n",
       "    <tr>\n",
       "      <th>1</th>\n",
       "      <td>1.0</td>\n",
       "      <td>54.5</td>\n",
       "      <td>19.13</td>\n",
       "    </tr>\n",
       "    <tr>\n",
       "      <th>2</th>\n",
       "      <td>1.5</td>\n",
       "      <td>54.5</td>\n",
       "      <td>19.65</td>\n",
       "    </tr>\n",
       "    <tr>\n",
       "      <th>3</th>\n",
       "      <td>2.0</td>\n",
       "      <td>54.4</td>\n",
       "      <td>20.12</td>\n",
       "    </tr>\n",
       "    <tr>\n",
       "      <th>4</th>\n",
       "      <td>2.5</td>\n",
       "      <td>54.4</td>\n",
       "      <td>20.6</td>\n",
       "    </tr>\n",
       "    <tr>\n",
       "      <th>...</th>\n",
       "      <td>...</td>\n",
       "      <td>...</td>\n",
       "      <td>...</td>\n",
       "    </tr>\n",
       "    <tr>\n",
       "      <th>195</th>\n",
       "      <td>98.0</td>\n",
       "      <td>34.5</td>\n",
       "      <td>34.22</td>\n",
       "    </tr>\n",
       "    <tr>\n",
       "      <th>196</th>\n",
       "      <td>98.5</td>\n",
       "      <td>34.5</td>\n",
       "      <td>34.29</td>\n",
       "    </tr>\n",
       "    <tr>\n",
       "      <th>197</th>\n",
       "      <td>99.0</td>\n",
       "      <td>34.4</td>\n",
       "      <td>34.26</td>\n",
       "    </tr>\n",
       "    <tr>\n",
       "      <th>198</th>\n",
       "      <td>99.5</td>\n",
       "      <td>34.3</td>\n",
       "      <td>34.23</td>\n",
       "    </tr>\n",
       "    <tr>\n",
       "      <th>199</th>\n",
       "      <td>100.0</td>\n",
       "      <td>34.3</td>\n",
       "      <td>34.3</td>\n",
       "    </tr>\n",
       "  </tbody>\n",
       "</table>\n",
       "<p>200 rows × 3 columns</p>\n",
       "</div>"
      ],
      "text/plain": [
       "        rh  Tair     Tw\n",
       "0      0.5  54.6  18.62\n",
       "1      1.0  54.5  19.13\n",
       "2      1.5  54.5  19.65\n",
       "3      2.0  54.4  20.12\n",
       "4      2.5  54.4   20.6\n",
       "..     ...   ...    ...\n",
       "195   98.0  34.5  34.22\n",
       "196   98.5  34.5  34.29\n",
       "197   99.0  34.4  34.26\n",
       "198   99.5  34.3  34.23\n",
       "199  100.0  34.3   34.3\n",
       "\n",
       "[200 rows x 3 columns]"
      ]
     },
     "execution_count": 27,
     "metadata": {},
     "output_type": "execute_result"
    }
   ],
   "source": [
    "# Survivability lines limits estimation            \n",
    "survivability_lines = HEATLim.SurvivabilityLines_from_SurvivabilityMatrix(survivability,humidity,version,temperature,WBT_matrix)\n",
    "# Survivability lines text files saving\n",
    "survivability_lines.to_csv(path_save+version+'_version_NewSurvivability_limits_'+sun+'_'+str(exp_time)+'H-'+name_profile+'.csv',header=True)                \n",
    "\n",
    "survivability_lines"
   ]
  },
  {
   "cell_type": "markdown",
   "metadata": {},
   "source": [
    "# Now, the funniest part: plotting the results!"
   ]
  },
  {
   "cell_type": "code",
   "execution_count": 38,
   "metadata": {},
   "outputs": [
    {
     "data": {
      "image/png": "[encoded data removed]",
      "text/plain": [
       "<Figure size 360x360 with 2 Axes>"
      ]
     },
     "metadata": {
      "needs_background": "light"
     },
     "output_type": "display_data"
    }
   ],
   "source": [
    "xx = xx_temp\n",
    "yy = yy_humidity\n",
    "plt.close('all')\n",
    "fig = plt.figure(figsize=(5,5))\n",
    "\n",
    "#Ploting survivability line\n",
    "cb = plt.contour(xx,yy,survivability,colors = 'Black',lw=0.1)\n",
    "#Ploting survivability flags\n",
    "cs = plt.pcolormesh(xx,yy,flag_survivability,cmap = cmap_survivability,vmin=0.5, vmax=5.5, norm = norm_survivability)\n",
    "\n",
    "#Setting wbt\n",
    "cp = plt.contour(xx,yy,WBT_matrix,colors = 'Dimgrey', levels= [35],linewidths=(1,))\n",
    "plt.clabel(cp, fmt = 'T$_w$ %2.1d°C', colors = 'Dimgrey', manual= [(55,70)],fontsize=14) #contour line labels\n",
    "\n",
    "#Mask for values above Tw > 37°C because are not plausible to occur.\n",
    "WBT_matrix[~np.isfinite(WBT_matrix)]= 40 #This line is just to do something with the values that are nan in WBT matrix   \n",
    "plt.contourf(xx,yy,WBT_matrix[WBT_matrix>37],cmap = 'seismic',levels =[6,np.nanmax(WBT_matrix)],zorder =2)\n",
    "\n",
    "#Setting plot labels\n",
    "plt.title(profile['name'] + \" (\"+sun+\")\", fontsize = 16)\n",
    "plt.xlabel('Air temperature (°C)', fontsize = 16)\n",
    "plt.ylabel(hum_label,fontsize = 16)\n",
    "\n",
    "\n",
    "#Setting colorbar\n",
    "cax = fig.add_axes([0.27, -0.03, 0.5, 0.04])\n",
    "cbar = plt.colorbar(cs, cax=cax,pad=0.08,fraction=0.04,ticks=[ticks_survivability],orientation = 'horizontal')\n",
    "cbar.ax.tick_params(labelsize=14)\n",
    "cbar.ax.set_xticklabels(ticks_survivability) \n",
    "cbar.set_label('Zones',fontsize = 14)\n",
    "        \n",
    "#Setting legend\n",
    "legend_elements = [Line2D([0], [0], color='DimGrey', lw=2, label='T$_w$ 35°C'),\n",
    "                    Patch(facecolor='Black', edgecolor='Indigo', label='This paper survivability limits')]\n",
    "plt.legend(handles=legend_elements,bbox_to_anchor=(1.6,-1.5),fontsize =16,ncol =2)\n",
    "\n",
    "\n",
    "plt.savefig(path_save+version+'_Survivability_Flags_'+sun+'_'+str(exp_time)+'H-'+name_profile+'.jpeg',dpi=300,transparent=False,bbox_inches='tight')   \n",
    "plt.show();plt.close()\n",
    "            "
   ]
  }
 ],
 "metadata": {
  "kernelspec": {
   "display_name": "Python 3 (ipykernel)",
   "language": "python",
   "name": "python3"
  },
  "language_info": {
   "codemirror_mode": {
    "name": "ipython",
    "version": 3
   },
   "file_extension": ".py",
   "mimetype": "text/x-python",
   "name": "python",
   "nbconvert_exporter": "python",
   "pygments_lexer": "ipython3",
   "version": "3.9.7"
  }
 },
 "nbformat": 4,
 "nbformat_minor": 4
}
